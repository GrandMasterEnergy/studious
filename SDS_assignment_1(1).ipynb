{
  "nbformat": 4,
  "nbformat_minor": 0,
  "metadata": {
    "colab": {
      "name": "SDS assignment 1.ipynb",
      "provenance": [],
      "collapsed_sections": []
    },
    "kernelspec": {
      "display_name": "Python 3",
      "name": "python3"
    },
    "language_info": {
      "name": "python"
    }
  },
  "cells": [
    {
      "cell_type": "markdown",
      "metadata": {
        "id": "-Yw2kLU1C-5Q"
      },
      "source": [
        "# SDS Assignment 1 - Digital Nomad\n",
        "\n",
        "- First of all i import the packeages that I need and download the data. \n",
        "- Take a look at the data using head and info.\n",
        "- Then open the files and assigning them to variables."
      ]
    },
    {
      "cell_type": "code",
      "metadata": {
        "id": "fCQEQsOhDhAw"
      },
      "source": [
        "import pandas as pd\n",
        "import numpy as np\n",
        "import matplotlib.pyplot as plt\n"
      ],
      "execution_count": 40,
      "outputs": []
    },
    {
      "cell_type": "code",
      "metadata": {
        "id": "bhjee8OgB6qX"
      },
      "source": [
        "#!wget  https://sds-aau.github.io/SDS-master/M1/data/trips.csv\n"
      ],
      "execution_count": null,
      "outputs": []
    },
    {
      "cell_type": "code",
      "metadata": {
        "id": "Tt4SuyVfCS1m"
      },
      "source": [
        "!wget https://sds-aau.github.io/SDS-master/M1/data/people.csv"
      ],
      "execution_count": null,
      "outputs": []
    },
    {
      "cell_type": "code",
      "metadata": {
        "id": "vCvBE9OaC0OK"
      },
      "source": [
        "!wget https://sds-aau.github.io/SDS-master/M1/data/countrylist.csv"
      ],
      "execution_count": null,
      "outputs": []
    },
    {
      "cell_type": "code",
      "metadata": {
        "id": "Ekw2tm_lDmHd"
      },
      "source": [
        "tripdata = pd.read_csv('trips.csv')\n",
        "peopledata = pd.read_csv('people.csv')\n",
        "countrydata = pd.read_csv('countrylist.csv')"
      ],
      "execution_count": 6,
      "outputs": []
    },
    {
      "cell_type": "code",
      "metadata": {
        "colab": {
          "base_uri": "https://localhost:8080/",
          "height": 353
        },
        "id": "Yl0MoGb9krAx",
        "outputId": "a99b948e-d833-4469-9a2a-87034b59ffa5"
      },
      "source": [
        "#taking a look at each file and see how the data looks \n",
        "print(peopledata.head())\n",
        "#tripdata.head()\n",
        "countrydata.head()\n",
        "#Could also use this \n",
        "#peopledata.info()\n",
        "#peopledata.describe()"
      ],
      "execution_count": 7,
      "outputs": [
        {
          "output_type": "stream",
          "name": "stdout",
          "text": [
            "   Unnamed: 0  ...                   education_raw\n",
            "0           0  ...  High School, Bachelor's Degree\n",
            "1           1  ...                             NaN\n",
            "2           2  ...                             NaN\n",
            "3           3  ...                             NaN\n",
            "4           4  ...                             NaN\n",
            "\n",
            "[5 rows x 6 columns]\n"
          ]
        },
        {
          "output_type": "execute_result",
          "data": {
            "text/html": [
              "<div>\n",
              "<style scoped>\n",
              "    .dataframe tbody tr th:only-of-type {\n",
              "        vertical-align: middle;\n",
              "    }\n",
              "\n",
              "    .dataframe tbody tr th {\n",
              "        vertical-align: top;\n",
              "    }\n",
              "\n",
              "    .dataframe thead th {\n",
              "        text-align: right;\n",
              "    }\n",
              "</style>\n",
              "<table border=\"1\" class=\"dataframe\">\n",
              "  <thead>\n",
              "    <tr style=\"text-align: right;\">\n",
              "      <th></th>\n",
              "      <th>alpha_2</th>\n",
              "      <th>region</th>\n",
              "      <th>sub_region</th>\n",
              "    </tr>\n",
              "  </thead>\n",
              "  <tbody>\n",
              "    <tr>\n",
              "      <th>0</th>\n",
              "      <td>AF</td>\n",
              "      <td>Asia</td>\n",
              "      <td>Southern Asia</td>\n",
              "    </tr>\n",
              "    <tr>\n",
              "      <th>1</th>\n",
              "      <td>AX</td>\n",
              "      <td>Europe</td>\n",
              "      <td>Northern Europe</td>\n",
              "    </tr>\n",
              "    <tr>\n",
              "      <th>2</th>\n",
              "      <td>AL</td>\n",
              "      <td>Europe</td>\n",
              "      <td>Southern Europe</td>\n",
              "    </tr>\n",
              "    <tr>\n",
              "      <th>3</th>\n",
              "      <td>DZ</td>\n",
              "      <td>Africa</td>\n",
              "      <td>Northern Africa</td>\n",
              "    </tr>\n",
              "    <tr>\n",
              "      <th>4</th>\n",
              "      <td>AS</td>\n",
              "      <td>Oceania</td>\n",
              "      <td>Polynesia</td>\n",
              "    </tr>\n",
              "  </tbody>\n",
              "</table>\n",
              "</div>"
            ],
            "text/plain": [
              "  alpha_2   region       sub_region\n",
              "0      AF     Asia    Southern Asia\n",
              "1      AX   Europe  Northern Europe\n",
              "2      AL   Europe  Southern Europe\n",
              "3      DZ   Africa  Northern Africa\n",
              "4      AS  Oceania        Polynesia"
            ]
          },
          "metadata": {},
          "execution_count": 7
        }
      ]
    },
    {
      "cell_type": "markdown",
      "metadata": {
        "id": "xyRqfW6Cj3-T"
      },
      "source": [
        "#Part 1 Preprocessing\n",
        "\n",
        "\n"
      ]
    },
    {
      "cell_type": "markdown",
      "metadata": {
        "id": "gQF51ix5yE6d"
      },
      "source": [
        "##Preprocessing 1A\n",
        "a. Transform dates into timestamps in the Trips data."
      ]
    },
    {
      "cell_type": "code",
      "metadata": {
        "colab": {
          "base_uri": "https://localhost:8080/"
        },
        "id": "VeAgcJ9dmvLR",
        "outputId": "80c23ea7-004e-49eb-a61d-d7ae70d96987"
      },
      "source": [
        "# the code from 1A\n",
        "#tripdata.info()\n",
        "tripdata['date_end'] = pd.to_datetime(tripdata.date_end, errors = 'coerce')\n",
        "tripdata['date_start'] = pd.to_datetime(tripdata.date_start, errors = 'coerce')\n",
        "tripdata.info()"
      ],
      "execution_count": 8,
      "outputs": [
        {
          "output_type": "stream",
          "name": "stdout",
          "text": [
            "<class 'pandas.core.frame.DataFrame'>\n",
            "RangeIndex: 46510 entries, 0 to 46509\n",
            "Data columns (total 11 columns):\n",
            " #   Column        Non-Null Count  Dtype         \n",
            "---  ------        --------------  -----         \n",
            " 0   Unnamed: 0    46510 non-null  int64         \n",
            " 1   username      46510 non-null  object        \n",
            " 2   country       46473 non-null  object        \n",
            " 3   country_code  45909 non-null  object        \n",
            " 4   country_slug  46473 non-null  object        \n",
            " 5   date_end      46292 non-null  datetime64[ns]\n",
            " 6   date_start    46499 non-null  datetime64[ns]\n",
            " 7   latitude      46510 non-null  int64         \n",
            " 8   longitude     46510 non-null  int64         \n",
            " 9   place         46510 non-null  object        \n",
            " 10  place_slug    46473 non-null  object        \n",
            "dtypes: datetime64[ns](2), int64(3), object(6)\n",
            "memory usage: 3.9+ MB\n"
          ]
        }
      ]
    },
    {
      "cell_type": "markdown",
      "metadata": {
        "id": "UJHYNmR-fQKZ"
      },
      "source": [
        "##Preprocessing 1B\n",
        "b. Calculate trip duration in days and create a column with a numerical value."
      ]
    },
    {
      "cell_type": "code",
      "metadata": {
        "colab": {
          "base_uri": "https://localhost:8080/"
        },
        "id": "0BxlCM5IfnBa",
        "outputId": "ddd1f89f-27f1-4814-b657-33cbf6e4639f"
      },
      "source": [
        "\n",
        "#tripdata.describe()\n",
        "tripdata['duration'] = tripdata.apply(lambda row: row.date_end - row.date_start, axis=1)\n",
        "tripdata.describe()\n",
        "#tripdata.head()"
      ],
      "execution_count": 9,
      "outputs": [
        {
          "output_type": "execute_result",
          "data": {
            "text/html": [
              "<div>\n",
              "<style scoped>\n",
              "    .dataframe tbody tr th:only-of-type {\n",
              "        vertical-align: middle;\n",
              "    }\n",
              "\n",
              "    .dataframe tbody tr th {\n",
              "        vertical-align: top;\n",
              "    }\n",
              "\n",
              "    .dataframe thead th {\n",
              "        text-align: right;\n",
              "    }\n",
              "</style>\n",
              "<table border=\"1\" class=\"dataframe\">\n",
              "  <thead>\n",
              "    <tr style=\"text-align: right;\">\n",
              "      <th></th>\n",
              "      <th>Unnamed: 0</th>\n",
              "      <th>latitude</th>\n",
              "      <th>longitude</th>\n",
              "      <th>duration</th>\n",
              "    </tr>\n",
              "  </thead>\n",
              "  <tbody>\n",
              "    <tr>\n",
              "      <th>count</th>\n",
              "      <td>46510.000000</td>\n",
              "      <td>46510.000000</td>\n",
              "      <td>46510.000000</td>\n",
              "      <td>46282</td>\n",
              "    </tr>\n",
              "    <tr>\n",
              "      <th>mean</th>\n",
              "      <td>23254.500000</td>\n",
              "      <td>28.931477</td>\n",
              "      <td>11.912750</td>\n",
              "      <td>50 days 13:04:52.312346052</td>\n",
              "    </tr>\n",
              "    <tr>\n",
              "      <th>std</th>\n",
              "      <td>13426.424847</td>\n",
              "      <td>23.551976</td>\n",
              "      <td>78.767316</td>\n",
              "      <td>658 days 14:15:01.267546536</td>\n",
              "    </tr>\n",
              "    <tr>\n",
              "      <th>min</th>\n",
              "      <td>0.000000</td>\n",
              "      <td>-79.000000</td>\n",
              "      <td>-175.000000</td>\n",
              "      <td>-16831 days +00:00:00</td>\n",
              "    </tr>\n",
              "    <tr>\n",
              "      <th>25%</th>\n",
              "      <td>11627.250000</td>\n",
              "      <td>14.000000</td>\n",
              "      <td>-68.000000</td>\n",
              "      <td>3 days 00:00:00</td>\n",
              "    </tr>\n",
              "    <tr>\n",
              "      <th>50%</th>\n",
              "      <td>23254.500000</td>\n",
              "      <td>37.000000</td>\n",
              "      <td>9.000000</td>\n",
              "      <td>7 days 00:00:00</td>\n",
              "    </tr>\n",
              "    <tr>\n",
              "      <th>75%</th>\n",
              "      <td>34881.750000</td>\n",
              "      <td>47.000000</td>\n",
              "      <td>98.000000</td>\n",
              "      <td>23 days 00:00:00</td>\n",
              "    </tr>\n",
              "    <tr>\n",
              "      <th>max</th>\n",
              "      <td>46509.000000</td>\n",
              "      <td>78.000000</td>\n",
              "      <td>178.000000</td>\n",
              "      <td>74633 days 00:00:00</td>\n",
              "    </tr>\n",
              "  </tbody>\n",
              "</table>\n",
              "</div>"
            ],
            "text/plain": [
              "         Unnamed: 0      latitude     longitude                     duration\n",
              "count  46510.000000  46510.000000  46510.000000                        46282\n",
              "mean   23254.500000     28.931477     11.912750   50 days 13:04:52.312346052\n",
              "std    13426.424847     23.551976     78.767316  658 days 14:15:01.267546536\n",
              "min        0.000000    -79.000000   -175.000000        -16831 days +00:00:00\n",
              "25%    11627.250000     14.000000    -68.000000              3 days 00:00:00\n",
              "50%    23254.500000     37.000000      9.000000              7 days 00:00:00\n",
              "75%    34881.750000     47.000000     98.000000             23 days 00:00:00\n",
              "max    46509.000000     78.000000    178.000000          74633 days 00:00:00"
            ]
          },
          "metadata": {},
          "execution_count": 9
        }
      ]
    },
    {
      "cell_type": "code",
      "metadata": {
        "colab": {
          "base_uri": "https://localhost:8080/",
          "height": 296
        },
        "id": "dATbOSB6imCl",
        "outputId": "971564d9-03a7-46a3-871d-e9b3960a2f0e"
      },
      "source": [
        "tripdata.head()"
      ],
      "execution_count": 10,
      "outputs": [
        {
          "output_type": "execute_result",
          "data": {
            "text/html": [
              "<div>\n",
              "<style scoped>\n",
              "    .dataframe tbody tr th:only-of-type {\n",
              "        vertical-align: middle;\n",
              "    }\n",
              "\n",
              "    .dataframe tbody tr th {\n",
              "        vertical-align: top;\n",
              "    }\n",
              "\n",
              "    .dataframe thead th {\n",
              "        text-align: right;\n",
              "    }\n",
              "</style>\n",
              "<table border=\"1\" class=\"dataframe\">\n",
              "  <thead>\n",
              "    <tr style=\"text-align: right;\">\n",
              "      <th></th>\n",
              "      <th>Unnamed: 0</th>\n",
              "      <th>username</th>\n",
              "      <th>country</th>\n",
              "      <th>country_code</th>\n",
              "      <th>country_slug</th>\n",
              "      <th>date_end</th>\n",
              "      <th>date_start</th>\n",
              "      <th>latitude</th>\n",
              "      <th>longitude</th>\n",
              "      <th>place</th>\n",
              "      <th>place_slug</th>\n",
              "      <th>duration</th>\n",
              "    </tr>\n",
              "  </thead>\n",
              "  <tbody>\n",
              "    <tr>\n",
              "      <th>0</th>\n",
              "      <td>0</td>\n",
              "      <td>@lewellenmichael</td>\n",
              "      <td>Mexico</td>\n",
              "      <td>MX</td>\n",
              "      <td>mexico</td>\n",
              "      <td>2018-06-15</td>\n",
              "      <td>2018-06-04</td>\n",
              "      <td>21</td>\n",
              "      <td>-101</td>\n",
              "      <td>Guanajuato</td>\n",
              "      <td>mexico</td>\n",
              "      <td>11 days</td>\n",
              "    </tr>\n",
              "    <tr>\n",
              "      <th>1</th>\n",
              "      <td>1</td>\n",
              "      <td>@lewellenmichael</td>\n",
              "      <td>Mexico</td>\n",
              "      <td>MX</td>\n",
              "      <td>mexico</td>\n",
              "      <td>2018-06-03</td>\n",
              "      <td>2018-05-31</td>\n",
              "      <td>19</td>\n",
              "      <td>-99</td>\n",
              "      <td>Mexico City</td>\n",
              "      <td>mexico-city-mexico</td>\n",
              "      <td>3 days</td>\n",
              "    </tr>\n",
              "    <tr>\n",
              "      <th>2</th>\n",
              "      <td>2</td>\n",
              "      <td>@lewellenmichael</td>\n",
              "      <td>Mexico</td>\n",
              "      <td>MX</td>\n",
              "      <td>mexico</td>\n",
              "      <td>2017-11-05</td>\n",
              "      <td>2017-11-01</td>\n",
              "      <td>21</td>\n",
              "      <td>-86</td>\n",
              "      <td>Cancun</td>\n",
              "      <td>cancun-mexico</td>\n",
              "      <td>4 days</td>\n",
              "    </tr>\n",
              "    <tr>\n",
              "      <th>3</th>\n",
              "      <td>3</td>\n",
              "      <td>@lewellenmichael</td>\n",
              "      <td>Jordan</td>\n",
              "      <td>JO</td>\n",
              "      <td>jordan</td>\n",
              "      <td>2017-08-07</td>\n",
              "      <td>2017-07-24</td>\n",
              "      <td>31</td>\n",
              "      <td>35</td>\n",
              "      <td>Amman</td>\n",
              "      <td>amman-jordan</td>\n",
              "      <td>14 days</td>\n",
              "    </tr>\n",
              "    <tr>\n",
              "      <th>4</th>\n",
              "      <td>4</td>\n",
              "      <td>@waylandchin</td>\n",
              "      <td>China</td>\n",
              "      <td>CN</td>\n",
              "      <td>china</td>\n",
              "      <td>2017-03-18</td>\n",
              "      <td>2017-02-17</td>\n",
              "      <td>40</td>\n",
              "      <td>122</td>\n",
              "      <td>Yingkou</td>\n",
              "      <td>china</td>\n",
              "      <td>29 days</td>\n",
              "    </tr>\n",
              "  </tbody>\n",
              "</table>\n",
              "</div>"
            ],
            "text/plain": [
              "   Unnamed: 0          username  ...          place_slug duration\n",
              "0           0  @lewellenmichael  ...              mexico  11 days\n",
              "1           1  @lewellenmichael  ...  mexico-city-mexico   3 days\n",
              "2           2  @lewellenmichael  ...       cancun-mexico   4 days\n",
              "3           3  @lewellenmichael  ...        amman-jordan  14 days\n",
              "4           4      @waylandchin  ...               china  29 days\n",
              "\n",
              "[5 rows x 12 columns]"
            ]
          },
          "metadata": {},
          "execution_count": 10
        }
      ]
    },
    {
      "cell_type": "markdown",
      "metadata": {
        "id": "06ANzmUWiuC6"
      },
      "source": [
        "##Preprocessing 1C\n",
        "c. Filter the extreme observations, make sure minimum duration is 1 day!"
      ]
    },
    {
      "cell_type": "code",
      "metadata": {
        "colab": {
          "base_uri": "https://localhost:8080/",
          "height": 300
        },
        "id": "SuzU1eRfbToj",
        "outputId": "bdc44844-15c5-419f-f156-352ab71f359f"
      },
      "source": [
        "#this give info about the quantiles\n",
        "tripdata.describe()"
      ],
      "execution_count": 11,
      "outputs": [
        {
          "output_type": "execute_result",
          "data": {
            "text/html": [
              "<div>\n",
              "<style scoped>\n",
              "    .dataframe tbody tr th:only-of-type {\n",
              "        vertical-align: middle;\n",
              "    }\n",
              "\n",
              "    .dataframe tbody tr th {\n",
              "        vertical-align: top;\n",
              "    }\n",
              "\n",
              "    .dataframe thead th {\n",
              "        text-align: right;\n",
              "    }\n",
              "</style>\n",
              "<table border=\"1\" class=\"dataframe\">\n",
              "  <thead>\n",
              "    <tr style=\"text-align: right;\">\n",
              "      <th></th>\n",
              "      <th>Unnamed: 0</th>\n",
              "      <th>latitude</th>\n",
              "      <th>longitude</th>\n",
              "      <th>duration</th>\n",
              "    </tr>\n",
              "  </thead>\n",
              "  <tbody>\n",
              "    <tr>\n",
              "      <th>count</th>\n",
              "      <td>46510.000000</td>\n",
              "      <td>46510.000000</td>\n",
              "      <td>46510.000000</td>\n",
              "      <td>46282</td>\n",
              "    </tr>\n",
              "    <tr>\n",
              "      <th>mean</th>\n",
              "      <td>23254.500000</td>\n",
              "      <td>28.931477</td>\n",
              "      <td>11.912750</td>\n",
              "      <td>50 days 13:04:52.312346052</td>\n",
              "    </tr>\n",
              "    <tr>\n",
              "      <th>std</th>\n",
              "      <td>13426.424847</td>\n",
              "      <td>23.551976</td>\n",
              "      <td>78.767316</td>\n",
              "      <td>658 days 14:15:01.267546536</td>\n",
              "    </tr>\n",
              "    <tr>\n",
              "      <th>min</th>\n",
              "      <td>0.000000</td>\n",
              "      <td>-79.000000</td>\n",
              "      <td>-175.000000</td>\n",
              "      <td>-16831 days +00:00:00</td>\n",
              "    </tr>\n",
              "    <tr>\n",
              "      <th>25%</th>\n",
              "      <td>11627.250000</td>\n",
              "      <td>14.000000</td>\n",
              "      <td>-68.000000</td>\n",
              "      <td>3 days 00:00:00</td>\n",
              "    </tr>\n",
              "    <tr>\n",
              "      <th>50%</th>\n",
              "      <td>23254.500000</td>\n",
              "      <td>37.000000</td>\n",
              "      <td>9.000000</td>\n",
              "      <td>7 days 00:00:00</td>\n",
              "    </tr>\n",
              "    <tr>\n",
              "      <th>75%</th>\n",
              "      <td>34881.750000</td>\n",
              "      <td>47.000000</td>\n",
              "      <td>98.000000</td>\n",
              "      <td>23 days 00:00:00</td>\n",
              "    </tr>\n",
              "    <tr>\n",
              "      <th>max</th>\n",
              "      <td>46509.000000</td>\n",
              "      <td>78.000000</td>\n",
              "      <td>178.000000</td>\n",
              "      <td>74633 days 00:00:00</td>\n",
              "    </tr>\n",
              "  </tbody>\n",
              "</table>\n",
              "</div>"
            ],
            "text/plain": [
              "         Unnamed: 0      latitude     longitude                     duration\n",
              "count  46510.000000  46510.000000  46510.000000                        46282\n",
              "mean   23254.500000     28.931477     11.912750   50 days 13:04:52.312346052\n",
              "std    13426.424847     23.551976     78.767316  658 days 14:15:01.267546536\n",
              "min        0.000000    -79.000000   -175.000000        -16831 days +00:00:00\n",
              "25%    11627.250000     14.000000    -68.000000              3 days 00:00:00\n",
              "50%    23254.500000     37.000000      9.000000              7 days 00:00:00\n",
              "75%    34881.750000     47.000000     98.000000             23 days 00:00:00\n",
              "max    46509.000000     78.000000    178.000000          74633 days 00:00:00"
            ]
          },
          "metadata": {},
          "execution_count": 11
        }
      ]
    },
    {
      "cell_type": "code",
      "metadata": {
        "colab": {
          "base_uri": "https://localhost:8080/"
        },
        "id": "EtUVPP5Ajvdm",
        "outputId": "981c9844-08e4-4c35-ccd2-5f8603487f8c"
      },
      "source": [
        "#code for 1c\n",
        "# this will create a np array and give quantile in duration duration \n",
        "extrem = pd.DataFrame(tripdata)\n",
        "percentiles = np.array([0.05, 0.25, 0.50, 0.75, 0.975])\n",
        "extrem.duration.quantile(percentiles)\n",
        "#tripdata.groupby('duration').quantile(.68)\n",
        "#my_DataFrame.groupby(['AGGREGATE']).agg({'duration': [q50, q90, 'max']})\n",
        "\n"
      ],
      "execution_count": 12,
      "outputs": [
        {
          "output_type": "execute_result",
          "data": {
            "text/plain": [
              "0.050     1 days\n",
              "0.250     3 days\n",
              "0.500     7 days\n",
              "0.750    23 days\n",
              "0.975   261 days\n",
              "Name: duration, dtype: timedelta64[ns]"
            ]
          },
          "metadata": {},
          "execution_count": 12
        }
      ]
    },
    {
      "cell_type": "code",
      "metadata": {
        "id": "WUWczPPub1rW"
      },
      "source": [
        "# deleting the trips lower than 1 day and more than upper quantile\n",
        "tripdata = tripdata[tripdata['duration'].dt.days >=1]\n",
        "tripdata = tripdata[tripdata['duration'].dt.days <=660]"
      ],
      "execution_count": 13,
      "outputs": []
    },
    {
      "cell_type": "code",
      "metadata": {
        "colab": {
          "base_uri": "https://localhost:8080/"
        },
        "id": "_1aehdjJzaEL",
        "outputId": "7e7f4858-7889-490c-b488-7d3092dd18cf"
      },
      "source": [
        "tripdata.duration.max()"
      ],
      "execution_count": 59,
      "outputs": [
        {
          "output_type": "execute_result",
          "data": {
            "text/plain": [
              "Timedelta('660 days 00:00:00')"
            ]
          },
          "metadata": {},
          "execution_count": 59
        }
      ]
    },
    {
      "cell_type": "code",
      "metadata": {
        "colab": {
          "base_uri": "https://localhost:8080/"
        },
        "id": "CGw_8SyBzs9W",
        "outputId": "5c82efa6-3577-4023-909f-daa82351dc59"
      },
      "source": [
        "tripdata['date_end'].dt.year.max()"
      ],
      "execution_count": 60,
      "outputs": [
        {
          "output_type": "execute_result",
          "data": {
            "text/plain": [
              "2106"
            ]
          },
          "metadata": {},
          "execution_count": 60
        }
      ]
    },
    {
      "cell_type": "code",
      "metadata": {
        "id": "rzR7FmIBz3Wl"
      },
      "source": [
        "tripdata = tripdata[tripdata['date_start'].dt.year > 2010]"
      ],
      "execution_count": 61,
      "outputs": []
    },
    {
      "cell_type": "code",
      "metadata": {
        "colab": {
          "base_uri": "https://localhost:8080/"
        },
        "id": "mTEG7K8P0IFH",
        "outputId": "f93b749c-748d-4a9b-ed48-cb3c0cfbdae5"
      },
      "source": [
        "tripdata.date_start.min()"
      ],
      "execution_count": 65,
      "outputs": [
        {
          "output_type": "execute_result",
          "data": {
            "text/plain": [
              "Timestamp('2011-01-01 00:00:00')"
            ]
          },
          "metadata": {},
          "execution_count": 65
        }
      ]
    },
    {
      "cell_type": "code",
      "metadata": {
        "id": "CZYlZOH_0PEy"
      },
      "source": [
        "tripdata = tripdata[tripdata['date_end'].dt.year < 2022]"
      ],
      "execution_count": 64,
      "outputs": []
    },
    {
      "cell_type": "code",
      "metadata": {
        "colab": {
          "base_uri": "https://localhost:8080/"
        },
        "id": "AuUqvEEr0Zp5",
        "outputId": "2b5291c8-8e0d-46b9-9465-c6d0beaf9ee9"
      },
      "source": [
        "tripdata.date_end.max()"
      ],
      "execution_count": 66,
      "outputs": [
        {
          "output_type": "execute_result",
          "data": {
            "text/plain": [
              "Timestamp('2021-11-30 00:00:00')"
            ]
          },
          "metadata": {},
          "execution_count": 66
        }
      ]
    },
    {
      "cell_type": "code",
      "metadata": {
        "colab": {
          "base_uri": "https://localhost:8080/",
          "height": 300
        },
        "id": "oedr0pbYssUf",
        "outputId": "44299867-a9cc-486d-b64b-3c6d911c0110"
      },
      "source": [
        "tripdata.describe()\n"
      ],
      "execution_count": 67,
      "outputs": [
        {
          "output_type": "execute_result",
          "data": {
            "text/html": [
              "<div>\n",
              "<style scoped>\n",
              "    .dataframe tbody tr th:only-of-type {\n",
              "        vertical-align: middle;\n",
              "    }\n",
              "\n",
              "    .dataframe tbody tr th {\n",
              "        vertical-align: top;\n",
              "    }\n",
              "\n",
              "    .dataframe thead th {\n",
              "        text-align: right;\n",
              "    }\n",
              "</style>\n",
              "<table border=\"1\" class=\"dataframe\">\n",
              "  <thead>\n",
              "    <tr style=\"text-align: right;\">\n",
              "      <th></th>\n",
              "      <th>Unnamed: 0</th>\n",
              "      <th>latitude</th>\n",
              "      <th>longitude</th>\n",
              "      <th>duration</th>\n",
              "    </tr>\n",
              "  </thead>\n",
              "  <tbody>\n",
              "    <tr>\n",
              "      <th>count</th>\n",
              "      <td>42309.000000</td>\n",
              "      <td>42309.000000</td>\n",
              "      <td>42309.000000</td>\n",
              "      <td>42309</td>\n",
              "    </tr>\n",
              "    <tr>\n",
              "      <th>mean</th>\n",
              "      <td>23080.457090</td>\n",
              "      <td>28.483183</td>\n",
              "      <td>13.540571</td>\n",
              "      <td>23 days 20:34:03.139757498</td>\n",
              "    </tr>\n",
              "    <tr>\n",
              "      <th>std</th>\n",
              "      <td>13470.733227</td>\n",
              "      <td>23.603071</td>\n",
              "      <td>78.985590</td>\n",
              "      <td>53 days 06:02:51.296091224</td>\n",
              "    </tr>\n",
              "    <tr>\n",
              "      <th>min</th>\n",
              "      <td>0.000000</td>\n",
              "      <td>-79.000000</td>\n",
              "      <td>-175.000000</td>\n",
              "      <td>1 days 00:00:00</td>\n",
              "    </tr>\n",
              "    <tr>\n",
              "      <th>25%</th>\n",
              "      <td>11389.000000</td>\n",
              "      <td>13.000000</td>\n",
              "      <td>-61.000000</td>\n",
              "      <td>3 days 00:00:00</td>\n",
              "    </tr>\n",
              "    <tr>\n",
              "      <th>50%</th>\n",
              "      <td>22988.000000</td>\n",
              "      <td>37.000000</td>\n",
              "      <td>11.000000</td>\n",
              "      <td>7 days 00:00:00</td>\n",
              "    </tr>\n",
              "    <tr>\n",
              "      <th>75%</th>\n",
              "      <td>34695.000000</td>\n",
              "      <td>47.000000</td>\n",
              "      <td>98.000000</td>\n",
              "      <td>23 days 00:00:00</td>\n",
              "    </tr>\n",
              "    <tr>\n",
              "      <th>max</th>\n",
              "      <td>46509.000000</td>\n",
              "      <td>78.000000</td>\n",
              "      <td>178.000000</td>\n",
              "      <td>660 days 00:00:00</td>\n",
              "    </tr>\n",
              "  </tbody>\n",
              "</table>\n",
              "</div>"
            ],
            "text/plain": [
              "         Unnamed: 0      latitude     longitude                    duration\n",
              "count  42309.000000  42309.000000  42309.000000                       42309\n",
              "mean   23080.457090     28.483183     13.540571  23 days 20:34:03.139757498\n",
              "std    13470.733227     23.603071     78.985590  53 days 06:02:51.296091224\n",
              "min        0.000000    -79.000000   -175.000000             1 days 00:00:00\n",
              "25%    11389.000000     13.000000    -61.000000             3 days 00:00:00\n",
              "50%    22988.000000     37.000000     11.000000             7 days 00:00:00\n",
              "75%    34695.000000     47.000000     98.000000            23 days 00:00:00\n",
              "max    46509.000000     78.000000    178.000000           660 days 00:00:00"
            ]
          },
          "metadata": {},
          "execution_count": 67
        }
      ]
    },
    {
      "cell_type": "markdown",
      "metadata": {
        "id": "Se6JibFnj0MA"
      },
      "source": [
        "##Preprocessing 1D\n",
        "d. Join the countrylist data to the trips data. Use the countrycode as a key."
      ]
    },
    {
      "cell_type": "code",
      "metadata": {
        "id": "xAxV51k1j8IT"
      },
      "source": [
        "#code for 1d\n",
        "#tripdata.head()\n",
        "#tripdata.country_code.value_counts()\n",
        "#tripdata.country_code.unique()\n",
        "#countrydata.alpha_2.value_counts()\n",
        "\n",
        "trips_merged = pd.merge(tripdata, countrydata, left_on=\"country_code\", right_on=\"alpha_2\")"
      ],
      "execution_count": 24,
      "outputs": []
    },
    {
      "cell_type": "code",
      "metadata": {
        "colab": {
          "base_uri": "https://localhost:8080/"
        },
        "id": "N75iU6C7wVMk",
        "outputId": "b2998a7c-7364-4730-934a-51ecc4930417"
      },
      "source": [
        "countrydata.alpha_2.unique()"
      ],
      "execution_count": 16,
      "outputs": [
        {
          "output_type": "execute_result",
          "data": {
            "text/plain": [
              "array(['AF', 'AX', 'AL', 'DZ', 'AS', 'AD', 'AO', 'AI', 'AQ', 'AG', 'AR',\n",
              "       'AM', 'AW', 'AU', 'AT', 'AZ', 'BS', 'BH', 'BD', 'BB', 'BY', 'BE',\n",
              "       'BZ', 'BJ', 'BM', 'BT', 'BO', 'BQ', 'BA', 'BW', 'BV', 'BR', 'IO',\n",
              "       'BN', 'BG', 'BF', 'BI', 'CV', 'KH', 'CM', 'CA', 'KY', 'CF', 'TD',\n",
              "       'CL', 'CN', 'CX', 'CC', 'CO', 'KM', 'CG', 'CD', 'CK', 'CR', 'CI',\n",
              "       'HR', 'CU', 'CW', 'CY', 'CZ', 'DK', 'DJ', 'DM', 'DO', 'EC', 'EG',\n",
              "       'SV', 'GQ', 'ER', 'EE', 'SZ', 'ET', 'FK', 'FO', 'FJ', 'FI', 'FR',\n",
              "       'GF', 'PF', 'TF', 'GA', 'GM', 'GE', 'DE', 'GH', 'GI', 'GR', 'GL',\n",
              "       'GD', 'GP', 'GU', 'GT', 'GG', 'GN', 'GW', 'GY', 'HT', 'HM', 'VA',\n",
              "       'HN', 'HK', 'HU', 'IS', 'IN', 'ID', 'IR', 'IQ', 'IE', 'IM', 'IL',\n",
              "       'IT', 'JM', 'JP', 'JE', 'JO', 'KZ', 'KE', 'KI', 'KP', 'KR', 'KW',\n",
              "       'KG', 'LA', 'LV', 'LB', 'LS', 'LR', 'LY', 'LI', 'LT', 'LU', 'MO',\n",
              "       'MG', 'MW', 'MY', 'MV', 'ML', 'MT', 'MH', 'MQ', 'MR', 'MU', 'YT',\n",
              "       'MX', 'FM', 'MD', 'MC', 'MN', 'ME', 'MS', 'MA', 'MZ', 'MM', nan,\n",
              "       'NR', 'NP', 'NL', 'NC', 'NZ', 'NI', 'NE', 'NG', 'NU', 'NF', 'MK',\n",
              "       'MP', 'NO', 'OM', 'PK', 'PW', 'PS', 'PA', 'PG', 'PY', 'PE', 'PH',\n",
              "       'PN', 'PL', 'PT', 'PR', 'QA', 'RE', 'RO', 'RU', 'RW', 'BL', 'SH',\n",
              "       'KN', 'LC', 'MF', 'PM', 'VC', 'WS', 'SM', 'ST', 'SA', 'SN', 'RS',\n",
              "       'SC', 'SL', 'SG', 'SX', 'SK', 'SI', 'SB', 'SO', 'ZA', 'GS', 'SS',\n",
              "       'ES', 'LK', 'SD', 'SR', 'SJ', 'SE', 'CH', 'SY', 'TW', 'TJ', 'TZ',\n",
              "       'TH', 'TL', 'TG', 'TK', 'TO', 'TT', 'TN', 'TR', 'TM', 'TC', 'TV',\n",
              "       'UG', 'UA', 'AE', 'GB', 'US', 'UM', 'UY', 'UZ', 'VU', 'VE', 'VN',\n",
              "       'VG', 'VI', 'WF', 'EH', 'YE', 'ZM', 'ZW'], dtype=object)"
            ]
          },
          "metadata": {},
          "execution_count": 16
        }
      ]
    },
    {
      "cell_type": "markdown",
      "metadata": {
        "id": "iRLlfzK0XEpJ"
      },
      "source": [
        "---"
      ]
    },
    {
      "cell_type": "markdown",
      "metadata": {
        "id": "fv7FUmEtJiKQ"
      },
      "source": [
        "#Part 2 People\n",
        " \n"
      ]
    },
    {
      "cell_type": "markdown",
      "metadata": {
        "id": "hUq_ybGhkNv-"
      },
      "source": [
        "##People 2a\n",
        "a. find how many people have at least high school diploma. "
      ]
    },
    {
      "cell_type": "code",
      "metadata": {
        "colab": {
          "base_uri": "https://localhost:8080/"
        },
        "id": "ZIr5NLvvNxCS",
        "outputId": "3f28bd5b-d08b-40fd-cbf8-217c1ae06103"
      },
      "source": [
        "\n",
        "#Count the different values in education raw, this sort on type\n",
        "print(peopledata.education_raw.value_counts())\n",
        "#summerize the string in that contains high in education \n",
        "print(\"\\npeople with High School diploma :\") \n",
        "#looking at what the string contains, and try to find High \n",
        "print(peopledata.education_raw.str.contains(\"High\").sum()) \n",
        "\n",
        "#Not using the string function you only get high school with one value and not multiple. \n",
        "#len(peopledata.loc[peopledata['education_raw'] == 'High School'])"
      ],
      "execution_count": 17,
      "outputs": [
        {
          "output_type": "stream",
          "name": "stdout",
          "text": [
            "Bachelor's Degree                                  197\n",
            "Master's Degree                                    115\n",
            "High School                                         58\n",
            "High School, Bachelor's Degree                      43\n",
            "High School, Bachelor's Degree, Master's Degree     29\n",
            "Bachelor's Degree, Master's Degree                   9\n",
            "Name: education_raw, dtype: int64\n",
            "\n",
            "people with High School diploma :\n",
            "130\n"
          ]
        }
      ]
    },
    {
      "cell_type": "markdown",
      "metadata": {
        "id": "JpwDfsuhRm_Z"
      },
      "source": [
        "##People 2b\n",
        "b. How many “Startup Founders” have attained a “Master’s Degree”?\n"
      ]
    },
    {
      "cell_type": "code",
      "metadata": {
        "colab": {
          "base_uri": "https://localhost:8080/"
        },
        "id": "05e4j3WKMaXd",
        "outputId": "12147f77-d1e8-42f8-a11d-a0a3edf8735d"
      },
      "source": [
        " \n",
        "# making a new data frame with name master_start and str contain with 2 condiftion \n",
        "master_start = peopledata[peopledata.education_raw.str.contains(\"Master\\'s\") & peopledata.work_raw.str.contains(\"Startup Founder\")]\n",
        "\n",
        "#take the length of this dataframe \n",
        "len(master_start)\n",
        "#Master_startup = peopledata[(peopledata.work_raw == 'Startup Founder') & (peopledata.education_raw == 'Masters Degree')]\n"
      ],
      "execution_count": 18,
      "outputs": [
        {
          "output_type": "execute_result",
          "data": {
            "text/plain": [
              "53"
            ]
          },
          "metadata": {},
          "execution_count": 18
        }
      ]
    },
    {
      "cell_type": "markdown",
      "metadata": {
        "id": "EarcqRQLVfg1"
      },
      "source": [
        "##People 2c\n",
        "c. Who is the person with a Master’s Degree that has the highest number of followers? Bonus: Explore the individual further, what else can you find out?"
      ]
    },
    {
      "cell_type": "code",
      "metadata": {
        "colab": {
          "base_uri": "https://localhost:8080/",
          "height": 476
        },
        "id": "YzFdwcjYYNne",
        "outputId": "4b4e06ea-e51f-4eeb-c457-af59568832c4"
      },
      "source": [
        "#code for 2c\n",
        "#her just sorting the values from max to low in followers \n",
        "peopledata.sort_values(by=['followers'],ascending=False)\n",
        "\n",
        "# the 2 person was having a master' degree "
      ],
      "execution_count": 19,
      "outputs": [
        {
          "output_type": "execute_result",
          "data": {
            "text/html": [
              "<div>\n",
              "<style scoped>\n",
              "    .dataframe tbody tr th:only-of-type {\n",
              "        vertical-align: middle;\n",
              "    }\n",
              "\n",
              "    .dataframe tbody tr th {\n",
              "        vertical-align: top;\n",
              "    }\n",
              "\n",
              "    .dataframe thead th {\n",
              "        text-align: right;\n",
              "    }\n",
              "</style>\n",
              "<table border=\"1\" class=\"dataframe\">\n",
              "  <thead>\n",
              "    <tr style=\"text-align: right;\">\n",
              "      <th></th>\n",
              "      <th>Unnamed: 0</th>\n",
              "      <th>username</th>\n",
              "      <th>followers</th>\n",
              "      <th>following</th>\n",
              "      <th>work_raw</th>\n",
              "      <th>education_raw</th>\n",
              "    </tr>\n",
              "  </thead>\n",
              "  <tbody>\n",
              "    <tr>\n",
              "      <th>3096</th>\n",
              "      <td>3096</td>\n",
              "      <td>@nomadlist_</td>\n",
              "      <td>2228</td>\n",
              "      <td>1</td>\n",
              "      <td>NaN</td>\n",
              "      <td>NaN</td>\n",
              "    </tr>\n",
              "    <tr>\n",
              "      <th>2043</th>\n",
              "      <td>2043</td>\n",
              "      <td>@levelsio</td>\n",
              "      <td>2182</td>\n",
              "      <td>353</td>\n",
              "      <td>Software Dev, Startup Founder, Creative</td>\n",
              "      <td>High School, Bachelor's Degree, Master's Degree</td>\n",
              "    </tr>\n",
              "    <tr>\n",
              "      <th>3631</th>\n",
              "      <td>3631</td>\n",
              "      <td>@vanschneider</td>\n",
              "      <td>520</td>\n",
              "      <td>13</td>\n",
              "      <td>NaN</td>\n",
              "      <td>NaN</td>\n",
              "    </tr>\n",
              "    <tr>\n",
              "      <th>494</th>\n",
              "      <td>494</td>\n",
              "      <td>@joelgascoigne</td>\n",
              "      <td>503</td>\n",
              "      <td>123</td>\n",
              "      <td>Startup Founder</td>\n",
              "      <td>NaN</td>\n",
              "    </tr>\n",
              "    <tr>\n",
              "      <th>1909</th>\n",
              "      <td>1909</td>\n",
              "      <td>@marc</td>\n",
              "      <td>429</td>\n",
              "      <td>57</td>\n",
              "      <td>Web Dev, Software Dev, UI/UX Design, Startup F...</td>\n",
              "      <td>High School, Bachelor's Degree</td>\n",
              "    </tr>\n",
              "    <tr>\n",
              "      <th>...</th>\n",
              "      <td>...</td>\n",
              "      <td>...</td>\n",
              "      <td>...</td>\n",
              "      <td>...</td>\n",
              "      <td>...</td>\n",
              "      <td>...</td>\n",
              "    </tr>\n",
              "    <tr>\n",
              "      <th>2979</th>\n",
              "      <td>2979</td>\n",
              "      <td>@cargix1</td>\n",
              "      <td>0</td>\n",
              "      <td>1</td>\n",
              "      <td>Software Dev</td>\n",
              "      <td>NaN</td>\n",
              "    </tr>\n",
              "    <tr>\n",
              "      <th>1620</th>\n",
              "      <td>1620</td>\n",
              "      <td>@kutniy</td>\n",
              "      <td>0</td>\n",
              "      <td>2</td>\n",
              "      <td>NaN</td>\n",
              "      <td>NaN</td>\n",
              "    </tr>\n",
              "    <tr>\n",
              "      <th>2974</th>\n",
              "      <td>2974</td>\n",
              "      <td>@mastinkipp</td>\n",
              "      <td>0</td>\n",
              "      <td>0</td>\n",
              "      <td>NaN</td>\n",
              "      <td>NaN</td>\n",
              "    </tr>\n",
              "    <tr>\n",
              "      <th>2971</th>\n",
              "      <td>2971</td>\n",
              "      <td>@pahoda</td>\n",
              "      <td>0</td>\n",
              "      <td>0</td>\n",
              "      <td>NaN</td>\n",
              "      <td>NaN</td>\n",
              "    </tr>\n",
              "    <tr>\n",
              "      <th>3198</th>\n",
              "      <td>3198</td>\n",
              "      <td>@tanjas</td>\n",
              "      <td>0</td>\n",
              "      <td>0</td>\n",
              "      <td>NaN</td>\n",
              "      <td>NaN</td>\n",
              "    </tr>\n",
              "  </tbody>\n",
              "</table>\n",
              "<p>4016 rows × 6 columns</p>\n",
              "</div>"
            ],
            "text/plain": [
              "      Unnamed: 0  ...                                    education_raw\n",
              "3096        3096  ...                                              NaN\n",
              "2043        2043  ...  High School, Bachelor's Degree, Master's Degree\n",
              "3631        3631  ...                                              NaN\n",
              "494          494  ...                                              NaN\n",
              "1909        1909  ...                   High School, Bachelor's Degree\n",
              "...          ...  ...                                              ...\n",
              "2979        2979  ...                                              NaN\n",
              "1620        1620  ...                                              NaN\n",
              "2974        2974  ...                                              NaN\n",
              "2971        2971  ...                                              NaN\n",
              "3198        3198  ...                                              NaN\n",
              "\n",
              "[4016 rows x 6 columns]"
            ]
          },
          "metadata": {},
          "execution_count": 19
        }
      ]
    },
    {
      "cell_type": "code",
      "metadata": {
        "colab": {
          "base_uri": "https://localhost:8080/"
        },
        "id": "OPetd9CqZw0m",
        "outputId": "97c6442b-12ed-4643-b596-c51f951d8635"
      },
      "source": [
        "print(peopledata.iloc[2043])"
      ],
      "execution_count": 20,
      "outputs": [
        {
          "output_type": "stream",
          "name": "stdout",
          "text": [
            "Unnamed: 0                                                  2043\n",
            "username                                               @levelsio\n",
            "followers                                                   2182\n",
            "following                                                    353\n",
            "work_raw                 Software Dev, Startup Founder, Creative\n",
            "education_raw    High School, Bachelor's Degree, Master's Degree\n",
            "Name: 2043, dtype: object\n"
          ]
        }
      ]
    },
    {
      "cell_type": "markdown",
      "metadata": {
        "id": "KlqXKXHtXJ4n"
      },
      "source": [
        "---"
      ]
    },
    {
      "cell_type": "markdown",
      "metadata": {
        "id": "n9CVC1gcVw9k"
      },
      "source": [
        "#Part 3 Trips "
      ]
    },
    {
      "cell_type": "markdown",
      "metadata": {
        "id": "X8uLO4EKV2j6"
      },
      "source": [
        "##Trips 3a\n",
        "a. Which country received the highest number of trips? – And which the lowest?"
      ]
    },
    {
      "cell_type": "code",
      "metadata": {
        "colab": {
          "base_uri": "https://localhost:8080/"
        },
        "id": "Xg0tA_sDG_YG",
        "outputId": "e6d3e056-cbc5-4bf7-b33e-b9d470ac03d4"
      },
      "source": [
        "# code for 3a\n",
        "#tripdata.head()\n",
        "#tripdata.info()\n",
        "#tripdata.shape\n",
        "\n",
        "#save the value count in a new frame \n",
        "max_travel = tripdata.country.value_counts()\n",
        "print(max_travel)\n",
        "\n"
      ],
      "execution_count": 68,
      "outputs": [
        {
          "output_type": "stream",
          "name": "stdout",
          "text": [
            "United States     6771\n",
            "Thailand          3255\n",
            "United Kingdom    1977\n",
            "Spain             1853\n",
            "Germany           1800\n",
            "                  ... \n",
            "45230                1\n",
            "630 72               1\n",
            "Mayotte              1\n",
            "Andaman Sea          1\n",
            "Lake Titicaca        1\n",
            "Name: country, Length: 234, dtype: int64\n"
          ]
        }
      ]
    },
    {
      "cell_type": "markdown",
      "metadata": {
        "id": "zw8BkTqVdFW8"
      },
      "source": [
        "the most travel to country is USA and lowest is some small islands "
      ]
    },
    {
      "cell_type": "markdown",
      "metadata": {
        "id": "8eyo6V1SWX9G"
      },
      "source": [
        "## Trips 3b\n",
        "b. Which region received the highest number of trips in 2017? Use the start of trips as a time reference."
      ]
    },
    {
      "cell_type": "code",
      "metadata": {
        "colab": {
          "base_uri": "https://localhost:8080/"
        },
        "id": "8mVWRpLok2Bf",
        "outputId": "5faa45a4-cc2e-427c-81ef-e2e1f7f73628"
      },
      "source": [
        "tripdata.info()"
      ],
      "execution_count": 69,
      "outputs": [
        {
          "output_type": "stream",
          "name": "stdout",
          "text": [
            "<class 'pandas.core.frame.DataFrame'>\n",
            "Int64Index: 42309 entries, 0 to 46509\n",
            "Data columns (total 12 columns):\n",
            " #   Column        Non-Null Count  Dtype          \n",
            "---  ------        --------------  -----          \n",
            " 0   Unnamed: 0    42309 non-null  int64          \n",
            " 1   username      42309 non-null  object         \n",
            " 2   country       42276 non-null  object         \n",
            " 3   country_code  41796 non-null  object         \n",
            " 4   country_slug  42276 non-null  object         \n",
            " 5   date_end      42309 non-null  datetime64[ns] \n",
            " 6   date_start    42309 non-null  datetime64[ns] \n",
            " 7   latitude      42309 non-null  int64          \n",
            " 8   longitude     42309 non-null  int64          \n",
            " 9   place         42309 non-null  object         \n",
            " 10  place_slug    42276 non-null  object         \n",
            " 11  duration      42309 non-null  timedelta64[ns]\n",
            "dtypes: datetime64[ns](2), int64(3), object(6), timedelta64[ns](1)\n",
            "memory usage: 4.2+ MB\n"
          ]
        }
      ]
    },
    {
      "cell_type": "code",
      "metadata": {
        "id": "MbHL_o2JWh8_"
      },
      "source": [
        "trip_2017 = trips_merged.groupby('region')['date_start'].count()\n",
        "\n",
        "\n",
        "#newframe.sort_values(['region', ['date_start'] <='2017-01-01'], ascending=[True, False], inplace=True)\n",
        "#newframe.loc[newframe[\"date_start\"] <= \"2017-01-01\", \"region\"]\n",
        "#newframe.sort_values(['region', 'date_start'], ascending=[True, False], inplace=True)\n",
        "\n",
        "#newframe = newframe.groupby('region')['date_start'] <= '2017-01-01' #+ #df.groupby('away_team')['away_score'].sum()\n",
        "\n",
        "\n",
        "\n",
        "\n"
      ],
      "execution_count": 70,
      "outputs": []
    },
    {
      "cell_type": "code",
      "metadata": {
        "id": "jwV01af9ouRk"
      },
      "source": [
        "trips_2017 =trips_merged[trips_merged.date_end.dt.year<=2017]\n",
        "trips_2017 =trips_2017[trips_2017.date_start.dt.year>=2017]"
      ],
      "execution_count": 71,
      "outputs": []
    },
    {
      "cell_type": "code",
      "metadata": {
        "id": "v1RdWV2wmjRw",
        "colab": {
          "base_uri": "https://localhost:8080/"
        },
        "outputId": "04c4ebe6-502f-45af-fa6e-2f5f45369a52"
      },
      "source": [
        "trips_2017.date_start.min()"
      ],
      "execution_count": 72,
      "outputs": [
        {
          "output_type": "execute_result",
          "data": {
            "text/plain": [
              "Timestamp('2017-01-01 00:00:00')"
            ]
          },
          "metadata": {},
          "execution_count": 72
        }
      ]
    },
    {
      "cell_type": "code",
      "metadata": {
        "colab": {
          "base_uri": "https://localhost:8080/"
        },
        "id": "nHC-rHCJpqh0",
        "outputId": "3b538663-a509-43a3-8963-a246494ea1d4"
      },
      "source": [
        "trips_2017.date_end.max()"
      ],
      "execution_count": 73,
      "outputs": [
        {
          "output_type": "execute_result",
          "data": {
            "text/plain": [
              "Timestamp('2017-12-31 00:00:00')"
            ]
          },
          "metadata": {},
          "execution_count": 73
        }
      ]
    },
    {
      "cell_type": "code",
      "metadata": {
        "id": "cdP4rziVpvjg"
      },
      "source": [
        "trips_2017 = trips_2017.groupby('region')['duration'].count()"
      ],
      "execution_count": 74,
      "outputs": []
    },
    {
      "cell_type": "code",
      "metadata": {
        "colab": {
          "base_uri": "https://localhost:8080/"
        },
        "id": "UriN05yBqMzO",
        "outputId": "bf9bcaea-8085-4f36-acb4-e63eba5b0183"
      },
      "source": [
        "trips_2017.sort_values(ascending=False)\n"
      ],
      "execution_count": 75,
      "outputs": [
        {
          "output_type": "execute_result",
          "data": {
            "text/plain": [
              "region\n",
              "Europe      4099\n",
              "Asia        3255\n",
              "Americas    3114\n",
              "Africa       415\n",
              "Oceania      357\n",
              "Name: duration, dtype: int64"
            ]
          },
          "metadata": {},
          "execution_count": 75
        }
      ]
    },
    {
      "cell_type": "markdown",
      "metadata": {
        "id": "T2m-i9QqrQvr"
      },
      "source": [
        "Most trips in Europe in 2017"
      ]
    },
    {
      "cell_type": "markdown",
      "metadata": {
        "id": "Zbmk0y94WqZW"
      },
      "source": [
        "##Trips 3c\n",
        "c. Which country in “Western Europe” did travelers spent least time? "
      ]
    },
    {
      "cell_type": "code",
      "metadata": {
        "colab": {
          "base_uri": "https://localhost:8080/"
        },
        "id": "L6HwOmR-W3lB",
        "outputId": "1c6d109b-770b-40d8-8b7f-4f21cd89ee8f"
      },
      "source": [
        "\n",
        "#new frame is the merged frame with country and trips\n",
        "trip_euro = trips_merged.groupby('sub_region')['duration'].count()\n",
        "trip_euro.sort_values(ascending=False)\n",
        "trip_eurowest = trips_merged[trips_merged.sub_region == 'Western Europe']\n",
        "trip_eurowest.sort_values(by=\"duration\",ascending=False)\n",
        "trip_eurowest.groupby(\"country\")[\"duration\"].sum() \n"
      ],
      "execution_count": 76,
      "outputs": [
        {
          "output_type": "execute_result",
          "data": {
            "text/plain": [
              "country\n",
              "Austria          5331 days\n",
              "Belgium          4473 days\n",
              "France          40115 days\n",
              "Germany         49991 days\n",
              "Liechtenstein       1 days\n",
              "Luxembourg       3350 days\n",
              "Monaco             64 days\n",
              "Netherlands     35199 days\n",
              "Switzerland     14283 days\n",
              "Name: duration, dtype: timedelta64[ns]"
            ]
          },
          "metadata": {},
          "execution_count": 76
        }
      ]
    },
    {
      "cell_type": "markdown",
      "metadata": {
        "id": "3FzpeZhPtcSh"
      },
      "source": [
        "people spend the least time in liechtenstein on ly 1 day "
      ]
    },
    {
      "cell_type": "code",
      "metadata": {
        "id": "75yA67HrrsEK"
      },
      "source": [
        "trip_eurowest = trip_eurowest.groupby(\"country\")['duration'].sum()"
      ],
      "execution_count": 77,
      "outputs": []
    },
    {
      "cell_type": "code",
      "metadata": {
        "id": "_3L3cemesAqG"
      },
      "source": [
        "trip_eurowest.plot(kind='bar', title=\"Western Europe days in total\")"
      ],
      "execution_count": null,
      "outputs": []
    },
    {
      "cell_type": "markdown",
      "metadata": {
        "id": "PLd0FFX3W1E5"
      },
      "source": [
        "##Trips 3d\n",
        "d. Do nomad Startup Founders tend to have shorter or longer trips on average?\n",
        "\n"
      ]
    },
    {
      "cell_type": "code",
      "metadata": {
        "id": "pD1bZ66XXVBf"
      },
      "source": [
        "people_merged = peopledata.merge(trips_merged,how='left', on=\"username\")\n",
        "\n",
        "\n",
        "#peoplemerge = peopledata(newframe,how='left', on=\"username\")\n",
        "\n",
        "#not_startup_founders = peopledata[~peopledata['work_raw'].str.contains('Startup Founder')]"
      ],
      "execution_count": 78,
      "outputs": []
    },
    {
      "cell_type": "code",
      "metadata": {
        "colab": {
          "base_uri": "https://localhost:8080/"
        },
        "id": "JsEJfFuIua4_",
        "outputId": "79610c8a-2449-4a23-d8e3-a1ffb71d4a66"
      },
      "source": [
        "people_merged.duration.mean()"
      ],
      "execution_count": 79,
      "outputs": [
        {
          "output_type": "execute_result",
          "data": {
            "text/plain": [
              "Timedelta('24 days 22:20:12.908085206')"
            ]
          },
          "metadata": {},
          "execution_count": 79
        }
      ]
    },
    {
      "cell_type": "code",
      "metadata": {
        "id": "sN8ldrPyujOu"
      },
      "source": [
        "people_SF = people_merged[people_merged['work_raw'].str.contains('Startup Founder',na=False)]"
      ],
      "execution_count": 80,
      "outputs": []
    },
    {
      "cell_type": "code",
      "metadata": {
        "colab": {
          "base_uri": "https://localhost:8080/"
        },
        "id": "8ZUwiDMxu3kS",
        "outputId": "4e5e522e-d247-4bff-b915-cf066e650243"
      },
      "source": [
        "people_SF.duration.mean()"
      ],
      "execution_count": 81,
      "outputs": [
        {
          "output_type": "execute_result",
          "data": {
            "text/plain": [
              "Timedelta('23 days 13:02:42.688296639')"
            ]
          },
          "metadata": {},
          "execution_count": 81
        }
      ]
    },
    {
      "cell_type": "markdown",
      "metadata": {
        "id": "TGf0Av8ou9Gk"
      },
      "source": [
        "Start up Founders tend to have shorter trips"
      ]
    },
    {
      "cell_type": "markdown",
      "metadata": {
        "id": "fJrjBQ5qXXlR"
      },
      "source": [
        "##Trips 3e\n",
        "e. visualize over-time median trip duration overall (bonus: and split by world-region) The plot will look weird ^^. PyHint: Resample by week (‘W’) and calculate the size of observations. RHint: Use the floor_date function to reset dates by week"
      ]
    },
    {
      "cell_type": "code",
      "metadata": {
        "id": "1mwqAj4FXd0B"
      },
      "source": [
        "import seaborn as sns\n",
        "import altair as alt\n",
        "\n",
        "sns.set(color_codes = True)\n",
        "\n",
        "import matplotlib.pyplot as plt\n"
      ],
      "execution_count": 82,
      "outputs": []
    },
    {
      "cell_type": "code",
      "metadata": {
        "id": "IT7jhcmwvW03"
      },
      "source": [
        "people_merged['duration'] = people_merged['duration'].dt.days"
      ],
      "execution_count": 83,
      "outputs": []
    },
    {
      "cell_type": "code",
      "metadata": {
        "id": "8HuYog2ovkZl"
      },
      "source": [
        "people_merged= people_merged[people_merged.date_start.dt.year<=2018]"
      ],
      "execution_count": 84,
      "outputs": []
    },
    {
      "cell_type": "code",
      "metadata": {
        "id": "2R4PoGubvzET"
      },
      "source": [
        "people_mg =people_merged.groupby(by=[people_merged.date_start.dt.year, people_merged.region]) ['duration'].median()"
      ],
      "execution_count": 85,
      "outputs": []
    },
    {
      "cell_type": "code",
      "metadata": {
        "colab": {
          "base_uri": "https://localhost:8080/"
        },
        "id": "lnBarldKwOHH",
        "outputId": "ff9f17ee-504c-4260-d644-9f5e1e54e156"
      },
      "source": [
        "print(people_mg)"
      ],
      "execution_count": 86,
      "outputs": [
        {
          "output_type": "stream",
          "name": "stdout",
          "text": [
            "date_start  region  \n",
            "1978        Americas    395.0\n",
            "1979        Americas      3.0\n",
            "1981        Americas     76.5\n",
            "            Europe       27.0\n",
            "1983        Americas     27.0\n",
            "                        ...  \n",
            "2018        Africa        9.0\n",
            "            Americas      8.0\n",
            "            Asia          7.0\n",
            "            Europe        6.0\n",
            "            Oceania       9.0\n",
            "Name: duration, Length: 138, dtype: float64\n"
          ]
        }
      ]
    },
    {
      "cell_type": "code",
      "metadata": {
        "colab": {
          "base_uri": "https://localhost:8080/",
          "height": 436
        },
        "id": "p5s4ihO-wZYd",
        "outputId": "8199a4bd-b27a-45ea-9781-22c2e4445412"
      },
      "source": [
        "people_mg.plot(stacked=True, kind='bar', subplots=True, ylabel='median days of trips', title='median trip durationof region and year', xlabel='year and region')"
      ],
      "execution_count": 87,
      "outputs": [
        {
          "output_type": "execute_result",
          "data": {
            "text/plain": [
              "array([<matplotlib.axes._subplots.AxesSubplot object at 0x7f087eb48b90>],\n",
              "      dtype=object)"
            ]
          },
          "metadata": {},
          "execution_count": 87
        },
        {
          "output_type": "display_data",
          "data": {
            "image/png": "[encoded data removed]",
            "text/plain": [
              "<Figure size 432x288 with 1 Axes>"
            ]
          },
          "metadata": {}
        }
      ]
    },
    {
      "cell_type": "markdown",
      "metadata": {
        "id": "MPZp7uyqxCN7"
      },
      "source": [
        "filter issue, it included all of the years "
      ]
    },
    {
      "cell_type": "code",
      "metadata": {
        "id": "KIhQgoDTw_6v"
      },
      "source": [
        "people_mgr = people_mg.reset_index()"
      ],
      "execution_count": 88,
      "outputs": []
    },
    {
      "cell_type": "code",
      "metadata": {
        "colab": {
          "base_uri": "https://localhost:8080/"
        },
        "id": "2fL3W0MkxQZw",
        "outputId": "a372a647-99e3-4ca1-d7ff-a3872eaab50b"
      },
      "source": [
        "people_mgr.info()"
      ],
      "execution_count": 89,
      "outputs": [
        {
          "output_type": "stream",
          "name": "stdout",
          "text": [
            "<class 'pandas.core.frame.DataFrame'>\n",
            "RangeIndex: 138 entries, 0 to 137\n",
            "Data columns (total 3 columns):\n",
            " #   Column      Non-Null Count  Dtype  \n",
            "---  ------      --------------  -----  \n",
            " 0   date_start  138 non-null    int64  \n",
            " 1   region      138 non-null    object \n",
            " 2   duration    138 non-null    float64\n",
            "dtypes: float64(1), int64(1), object(1)\n",
            "memory usage: 3.4+ KB\n"
          ]
        }
      ]
    },
    {
      "cell_type": "code",
      "metadata": {
        "colab": {
          "base_uri": "https://localhost:8080/",
          "height": 303
        },
        "id": "nXjX3x0bxTb5",
        "outputId": "6754234e-35e7-4b3a-fe20-c1e3fb0dcd88"
      },
      "source": [
        "sns.lineplot(data=people_mgr, x='date_start', y='duration',hue='region')"
      ],
      "execution_count": 90,
      "outputs": [
        {
          "output_type": "execute_result",
          "data": {
            "text/plain": [
              "<matplotlib.axes._subplots.AxesSubplot at 0x7f087ea454d0>"
            ]
          },
          "metadata": {},
          "execution_count": 90
        },
        {
          "output_type": "display_data",
          "data": {
            "image/png": "[encoded data removed]",
            "text/plain": [
              "<Figure size 432x288 with 1 Axes>"
            ]
          },
          "metadata": {}
        }
      ]
    },
    {
      "cell_type": "code",
      "metadata": {
        "id": "NC_FnvT20-uu"
      },
      "source": [
        ""
      ],
      "execution_count": null,
      "outputs": []
    }
  ]
}